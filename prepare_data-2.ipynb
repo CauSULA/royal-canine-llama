{
 "cells": [
  {
   "cell_type": "code",
   "execution_count": 1,
   "id": "f91b441e-e16b-4b9e-9b69-d85043f7233c",
   "metadata": {},
   "outputs": [],
   "source": [
    "from datasets import load_dataset, load_from_disk\n",
    "from collections import defaultdict\n",
    "import random\n",
    "import tqdm"
   ]
  },
  {
   "cell_type": "code",
   "execution_count": 2,
   "id": "b4833ea0-41db-4235-b05b-03371a26f5cb",
   "metadata": {},
   "outputs": [
    {
     "name": "stderr",
     "output_type": "stream",
     "text": [
      "No config specified, defaulting to: rulm/default\n",
      "Found cached dataset rulm (/home/jovyan/.cache/huggingface/datasets/IlyaGusev___rulm/default/0.0.1/c94da05286e8839c1219f9a5061c630709a487fb298427a6f5a73ee0fe2cd2cb)\n"
     ]
    },
    {
     "data": {
      "application/vnd.jupyter.widget-view+json": {
       "model_id": "7a053a8c02204a01a63e30bdf818f6bb",
       "version_major": 2,
       "version_minor": 0
      },
      "text/plain": [
       "  0%|          | 0/3 [00:00<?, ?it/s]"
      ]
     },
     "metadata": {},
     "output_type": "display_data"
    }
   ],
   "source": [
    "dataset = load_dataset(\"IlyaGusev/rulm\")"
   ]
  },
  {
   "cell_type": "code",
   "execution_count": 3,
   "id": "835398f7-87c2-42e3-9dce-c3c672e095cb",
   "metadata": {},
   "outputs": [],
   "source": [
    "i = 0\n",
    "for s in dataset[\"train\"]:\n",
    "    if s[\"meta\"][\"source\"] == \"librusec\":\n",
    "        if i == 297:\n",
    "            # print(s[\"text\"])\n",
    "            break\n",
    "        i += 1"
   ]
  },
  {
   "cell_type": "code",
   "execution_count": 4,
   "id": "a0dc3474-09f8-45ac-baf7-105efce9e715",
   "metadata": {},
   "outputs": [
    {
     "name": "stderr",
     "output_type": "stream",
     "text": [
      "Loading cached processed dataset at /home/jovyan/.cache/huggingface/datasets/IlyaGusev___rulm/default/0.0.1/c94da05286e8839c1219f9a5061c630709a487fb298427a6f5a73ee0fe2cd2cb/cache-06a3d6f1322569ec.arrow\n",
      "Loading cached processed dataset at /home/jovyan/.cache/huggingface/datasets/IlyaGusev___rulm/default/0.0.1/c94da05286e8839c1219f9a5061c630709a487fb298427a6f5a73ee0fe2cd2cb/cache-6749c8629a964007.arrow\n",
      "Loading cached processed dataset at /home/jovyan/.cache/huggingface/datasets/IlyaGusev___rulm/default/0.0.1/c94da05286e8839c1219f9a5061c630709a487fb298427a6f5a73ee0fe2cd2cb/cache-f27c9c5a803bed04.arrow\n"
     ]
    }
   ],
   "source": [
    "dataset_filtered = dataset.filter(lambda x: x[\"meta\"][\"source\"] not in (\"pikabu\", \"wiki\"))"
   ]
  },
  {
   "cell_type": "code",
   "execution_count": 5,
   "id": "9870cec7-1ab2-4f93-bab1-3e7ae651386b",
   "metadata": {},
   "outputs": [
    {
     "name": "stderr",
     "output_type": "stream",
     "text": [
      "100%|██████████| 10943685/10943685 [16:13<00:00, 11241.13it/s]\n"
     ]
    }
   ],
   "source": [
    "sources = [(s[\"meta\"][\"source\"], len(s[\"text\"])) for s in tqdm.tqdm(dataset_filtered[\"train\"], total=dataset_filtered[\"train\"].num_rows)]"
   ]
  },
  {
   "cell_type": "code",
   "execution_count": 6,
   "id": "0720381c-048e-4fed-a68e-7d122b8f631d",
   "metadata": {},
   "outputs": [
    {
     "name": "stderr",
     "output_type": "stream",
     "text": [
      "100%|██████████| 10943685/10943685 [00:06<00:00, 1766481.49it/s]\n"
     ]
    }
   ],
   "source": [
    "source_texts = defaultdict(list)\n",
    "\n",
    "for i, (src, text_len) in tqdm.tqdm(enumerate(sources), total=len(sources)):\n",
    "    source_texts[src].append((i, text_len))"
   ]
  },
  {
   "cell_type": "code",
   "execution_count": 7,
   "id": "c3ecdcbe-af7c-4b21-bd03-a6ee9abd7a1a",
   "metadata": {},
   "outputs": [
    {
     "name": "stderr",
     "output_type": "stream",
     "text": [
      "100%|██████████| 10/10 [00:00<00:00, 235635.06it/s]\n",
      "100%|██████████| 10/10 [00:01<00:00,  5.57it/s]\n"
     ]
    }
   ],
   "source": [
    "source_texts_count = {s: len(texts) for s, texts in tqdm.tqdm(source_texts.items())}\n",
    "source_texts_len = {s: sum(map(lambda x: x[1], texts)) for s, texts in tqdm.tqdm(source_texts.items())}"
   ]
  },
  {
   "cell_type": "code",
   "execution_count": 8,
   "id": "d24f910a-adf2-4607-ac13-37680b7f5d80",
   "metadata": {},
   "outputs": [
    {
     "data": {
      "text/plain": [
       "{'lenta': 748299,\n",
       " 'stihi': 5099823,\n",
       " 'stackoverflow': 419383,\n",
       " 'habr': 294461,\n",
       " 'taiga_fontanka': 315449,\n",
       " 'librusec': 1398319,\n",
       " 'buriy': 1494355,\n",
       " 'ods_tass': 1104120,\n",
       " 'gazeta': 58447,\n",
       " 'math': 11029}"
      ]
     },
     "execution_count": 8,
     "metadata": {},
     "output_type": "execute_result"
    }
   ],
   "source": [
    "source_texts_count"
   ]
  },
  {
   "cell_type": "code",
   "execution_count": 9,
   "id": "ce86736c-0557-47f9-b5f2-4ea05e99911c",
   "metadata": {},
   "outputs": [
    {
     "data": {
      "text/plain": [
       "<BarContainer object of 10 artists>"
      ]
     },
     "execution_count": 9,
     "metadata": {},
     "output_type": "execute_result"
    },
    {
     "data": {
      "image/png": "[encoded data removed]",
      "text/plain": [
       "<Figure size 1200x480 with 1 Axes>"
      ]
     },
     "metadata": {},
     "output_type": "display_data"
    }
   ],
   "source": [
    "import matplotlib.pyplot as plt\n",
    "\n",
    "plt.figure(figsize=(15, 6), dpi=80)\n",
    "plt.bar(source_texts_count.keys(), source_texts_count.values(), 0.5)"
   ]
  },
  {
   "cell_type": "code",
   "execution_count": 10,
   "id": "20dcd98d-a5c9-46de-bca5-f4914feb6f6c",
   "metadata": {},
   "outputs": [
    {
     "data": {
      "text/plain": [
       "<BarContainer object of 10 artists>"
      ]
     },
     "execution_count": 10,
     "metadata": {},
     "output_type": "execute_result"
    },
    {
     "data": {
      "image/png": "[encoded data removed]",
      "text/plain": [
       "<Figure size 1200x480 with 1 Axes>"
      ]
     },
     "metadata": {},
     "output_type": "display_data"
    }
   ],
   "source": [
    "plt.figure(figsize=(15, 6), dpi=80)\n",
    "plt.bar(source_texts_len.keys(), source_texts_len.values(), 0.5)"
   ]
  },
  {
   "cell_type": "code",
   "execution_count": 11,
   "id": "06593519-f693-49f5-b28c-6e2a049ad5c5",
   "metadata": {},
   "outputs": [],
   "source": [
    "def sample_indices(source_percentage: dict[str, float]):\n",
    "    chosen_indices = {}\n",
    "\n",
    "    for source, percent in source_percentage.items():\n",
    "        source_samples = int(len(source_texts[source]) * percent)\n",
    "        chosen_indices[source] = random.sample(source_texts[source], source_samples)\n",
    "\n",
    "    return chosen_indices"
   ]
  },
  {
   "cell_type": "code",
   "execution_count": 12,
   "id": "1e85f710-738a-4d2c-bbe0-e595d0c134f3",
   "metadata": {},
   "outputs": [],
   "source": [
    "source_percentage = {\n",
    "    \"lenta\": 0.15,\n",
    "    \"stihi\": 0.1,\n",
    "    \"stackoverflow\": 0.8,\n",
    "    \"habr\": 0.2,\n",
    "    \"taiga_fontanka\": 0.5,\n",
    "    \"librusec\": 0.1,\n",
    "    \"buriy\": 0.08,\n",
    "    \"ods_tass\": 0.12,\n",
    "    \"gazeta\": 0.5,\n",
    "    \"math\": 0.28,\n",
    "}"
   ]
  },
  {
   "cell_type": "code",
   "execution_count": 13,
   "id": "3c2cb5a0-c3aa-4965-b82d-2ddc85e2a67c",
   "metadata": {},
   "outputs": [
    {
     "data": {
      "text/plain": [
       "335506.4"
      ]
     },
     "execution_count": 13,
     "metadata": {},
     "output_type": "execute_result"
    }
   ],
   "source": [
    "source_texts_count[\"stackoverflow\"] * source_percentage[\"stackoverflow\"]"
   ]
  },
  {
   "cell_type": "code",
   "execution_count": 14,
   "id": "2f4bf03e-4ab0-41b5-a81f-8af3f737315d",
   "metadata": {},
   "outputs": [
    {
     "data": {
      "text/plain": [
       "551235.65"
      ]
     },
     "execution_count": 14,
     "metadata": {},
     "output_type": "execute_result"
    }
   ],
   "source": [
    "source_texts_count[\"lenta\"] * source_percentage[\"lenta\"] + source_texts_count[\"taiga_fontanka\"] * source_percentage[\"taiga_fontanka\"] + \\\n",
    "    source_texts_count[\"ods_tass\"] * source_percentage[\"ods_tass\"] + source_texts_count[\"buriy\"] * source_percentage[\"buriy\"] + \\\n",
    "    source_texts_count[\"gazeta\"] * source_percentage[\"gazeta\"]"
   ]
  },
  {
   "cell_type": "code",
   "execution_count": 15,
   "id": "8fecf60e-07c4-47ac-9088-607ead69c388",
   "metadata": {},
   "outputs": [],
   "source": [
    "chosen_indices = sample_indices(source_percentage)"
   ]
  },
  {
   "cell_type": "code",
   "execution_count": 16,
   "id": "085c134b-962f-4a68-a737-3e60338b7959",
   "metadata": {},
   "outputs": [
    {
     "data": {
      "text/plain": [
       "<BarContainer object of 10 artists>"
      ]
     },
     "execution_count": 16,
     "metadata": {},
     "output_type": "execute_result"
    },
    {
     "data": {
      "image/png": "[encoded data removed]",
      "text/plain": [
       "<Figure size 1200x480 with 1 Axes>"
      ]
     },
     "metadata": {},
     "output_type": "display_data"
    }
   ],
   "source": [
    "plt.figure(figsize=(15, 6), dpi=80)\n",
    "\n",
    "chosen_indices_len_dist = {s: sum(map(lambda x: x[1], texts)) for s, texts in chosen_indices.items()}\n",
    "\n",
    "plt.bar(chosen_indices_len_dist.keys(), chosen_indices_len_dist.values(), 0.5)"
   ]
  },
  {
   "cell_type": "code",
   "execution_count": 17,
   "id": "6c2c8f77-5388-4897-a63f-ecbbbc1caa76",
   "metadata": {},
   "outputs": [],
   "source": [
    "total_chosen_indices = []\n",
    "for s, texts in chosen_indices.items():\n",
    "    for i, text_len in texts:\n",
    "        total_chosen_indices.append(i)"
   ]
  },
  {
   "cell_type": "code",
   "execution_count": 18,
   "id": "e208cd39-5f2b-437e-8a12-87762cab8827",
   "metadata": {},
   "outputs": [
    {
     "data": {
      "text/plain": [
       "1598532"
      ]
     },
     "execution_count": 18,
     "metadata": {},
     "output_type": "execute_result"
    }
   ],
   "source": [
    "len(total_chosen_indices)"
   ]
  },
  {
   "cell_type": "code",
   "execution_count": 19,
   "id": "b6f0dbac-aa24-489a-99a5-b9318e6578c7",
   "metadata": {},
   "outputs": [],
   "source": [
    "selected_dataset = dataset_filtered[\"train\"].select(total_chosen_indices)"
   ]
  },
  {
   "cell_type": "code",
   "execution_count": 20,
   "id": "cfffdca7-43a5-443c-aba4-726b8c73addf",
   "metadata": {},
   "outputs": [],
   "source": [
    "selected_dataset = selected_dataset.shuffle(seed=42)"
   ]
  },
  {
   "cell_type": "code",
   "execution_count": 21,
   "id": "8a30fc21-0b76-4faf-b12e-db8dc0319b1c",
   "metadata": {},
   "outputs": [],
   "source": [
    "selected_dataset = selected_dataset.train_test_split(test_size=0.05)"
   ]
  },
  {
   "cell_type": "code",
   "execution_count": 22,
   "id": "72a8b30f-9ac4-4e62-ac93-758062d51b84",
   "metadata": {},
   "outputs": [
    {
     "data": {
      "application/vnd.jupyter.widget-view+json": {
       "model_id": "",
       "version_major": 2,
       "version_minor": 0
      },
      "text/plain": [
       "Saving the dataset (0/17 shards):   0%|          | 0/1518605 [00:00<?, ? examples/s]"
      ]
     },
     "metadata": {},
     "output_type": "display_data"
    },
    {
     "data": {
      "application/vnd.jupyter.widget-view+json": {
       "model_id": "",
       "version_major": 2,
       "version_minor": 0
      },
      "text/plain": [
       "Saving the dataset (0/1 shards):   0%|          | 0/79927 [00:00<?, ? examples/s]"
      ]
     },
     "metadata": {},
     "output_type": "display_data"
    }
   ],
   "source": [
    "selected_dataset.save_to_disk(\"filtered_dataset\")"
   ]
  },
  {
   "cell_type": "code",
   "execution_count": 23,
   "id": "08161cab-7eb0-41f3-a1fc-36a3983ad6b9",
   "metadata": {},
   "outputs": [
    {
     "name": "stdout",
     "output_type": "stream",
     "text": [
      "6.9G\tfiltered_dataset\n"
     ]
    }
   ],
   "source": [
    "!du -hs filtered_dataset"
   ]
  },
  {
   "cell_type": "code",
   "execution_count": 24,
   "id": "1198745a-29ef-4609-a58c-ab2611b27912",
   "metadata": {},
   "outputs": [
    {
     "name": "stdout",
     "output_type": "stream",
     "text": [
      "\n",
      "===================================BUG REPORT===================================\n",
      "Welcome to bitsandbytes. For bug reports, please run\n",
      "\n",
      "python -m bitsandbytes\n",
      "\n",
      " and submit this information together with your error trace to: https://github.com/TimDettmers/bitsandbytes/issues\n",
      "================================================================================\n",
      "bin /home/jovyan/.imgenv-unruffled-hypatia-0/lib/python3.9/site-packages/bitsandbytes/libbitsandbytes_cuda117.so\n",
      "CUDA_SETUP: WARNING! libcudart.so not found in any environmental path. Searching in backup paths...\n",
      "CUDA SETUP: CUDA runtime path found: /usr/local/cuda/lib64/libcudart.so\n",
      "CUDA SETUP: Highest compute capability among GPUs detected: 8.0\n",
      "CUDA SETUP: Detected CUDA version 117\n",
      "CUDA SETUP: Loading binary /home/jovyan/.imgenv-unruffled-hypatia-0/lib/python3.9/site-packages/bitsandbytes/libbitsandbytes_cuda117.so...\n"
     ]
    },
    {
     "name": "stderr",
     "output_type": "stream",
     "text": [
      "/home/jovyan/.imgenv-unruffled-hypatia-0/lib/python3.9/site-packages/bitsandbytes/cuda_setup/main.py:145: UserWarning: /home/jovyan/.imgenv-unruffled-hypatia-0 did not contain ['libcudart.so', 'libcudart.so.11.0', 'libcudart.so.12.0'] as expected! Searching further paths...\n",
      "  warn(msg)\n",
      "/home/jovyan/.imgenv-unruffled-hypatia-0/lib/python3.9/site-packages/bitsandbytes/cuda_setup/main.py:145: UserWarning: WARNING: The following directories listed in your path were found to be non-existent: {PosixPath('/usr/local/nvidia/lib'), PosixPath('/usr/local/nvidia/lib64')}\n",
      "  warn(msg)\n",
      "/home/jovyan/.imgenv-unruffled-hypatia-0/lib/python3.9/site-packages/bitsandbytes/cuda_setup/main.py:145: UserWarning: /usr/local/nvidia/lib:/usr/local/nvidia/lib64 did not contain ['libcudart.so', 'libcudart.so.11.0', 'libcudart.so.12.0'] as expected! Searching further paths...\n",
      "  warn(msg)\n",
      "/home/jovyan/.imgenv-unruffled-hypatia-0/lib/python3.9/site-packages/bitsandbytes/cuda_setup/main.py:145: UserWarning: WARNING: The following directories listed in your path were found to be non-existent: {PosixPath('22'), PosixPath('tcp'), PosixPath('//172.18.192.44')}\n",
      "  warn(msg)\n",
      "/home/jovyan/.imgenv-unruffled-hypatia-0/lib/python3.9/site-packages/bitsandbytes/cuda_setup/main.py:145: UserWarning: WARNING: The following directories listed in your path were found to be non-existent: {PosixPath('https'), PosixPath('//download.openmmlab.com/mmcv/dist/cu117/torch1.11.0/index.html')}\n",
      "  warn(msg)\n",
      "/home/jovyan/.imgenv-unruffled-hypatia-0/lib/python3.9/site-packages/bitsandbytes/cuda_setup/main.py:145: UserWarning: WARNING: The following directories listed in your path were found to be non-existent: {PosixPath('80'), PosixPath('//172.18.215.105'), PosixPath('tcp')}\n",
      "  warn(msg)\n",
      "/home/jovyan/.imgenv-unruffled-hypatia-0/lib/python3.9/site-packages/bitsandbytes/cuda_setup/main.py:145: UserWarning: WARNING: The following directories listed in your path were found to be non-existent: {PosixPath('/sr002-mt/notebook/ai0002258-00001/unruffled-hypatia')}\n",
      "  warn(msg)\n",
      "/home/jovyan/.imgenv-unruffled-hypatia-0/lib/python3.9/site-packages/bitsandbytes/cuda_setup/main.py:145: UserWarning: WARNING: The following directories listed in your path were found to be non-existent: {PosixPath('Europe/Moscow')}\n",
      "  warn(msg)\n",
      "/home/jovyan/.imgenv-unruffled-hypatia-0/lib/python3.9/site-packages/bitsandbytes/cuda_setup/main.py:145: UserWarning: WARNING: The following directories listed in your path were found to be non-existent: {PosixPath('80'), PosixPath('tcp'), PosixPath('//172.18.192.44')}\n",
      "  warn(msg)\n",
      "/home/jovyan/.imgenv-unruffled-hypatia-0/lib/python3.9/site-packages/bitsandbytes/cuda_setup/main.py:145: UserWarning: WARNING: The following directories listed in your path were found to be non-existent: {PosixPath('443'), PosixPath('//172.18.0.1'), PosixPath('tcp')}\n",
      "  warn(msg)\n",
      "/home/jovyan/.imgenv-unruffled-hypatia-0/lib/python3.9/site-packages/bitsandbytes/cuda_setup/main.py:145: UserWarning: WARNING: The following directories listed in your path were found to be non-existent: {PosixPath('0.0.33'), PosixPath('cr.msk.sbercloud.ru/aicloud-base-images/cuda11.7-pt2')}\n",
      "  warn(msg)\n",
      "/home/jovyan/.imgenv-unruffled-hypatia-0/lib/python3.9/site-packages/bitsandbytes/cuda_setup/main.py:145: UserWarning: WARNING: The following directories listed in your path were found to be non-existent: {PosixPath('https'), PosixPath('//download.pytorch.org/whl/torch_stable.html')}\n",
      "  warn(msg)\n",
      "/home/jovyan/.imgenv-unruffled-hypatia-0/lib/python3.9/site-packages/bitsandbytes/cuda_setup/main.py:145: UserWarning: WARNING: The following directories listed in your path were found to be non-existent: {PosixPath('22'), PosixPath('//172.18.215.105'), PosixPath('tcp')}\n",
      "  warn(msg)\n",
      "/home/jovyan/.imgenv-unruffled-hypatia-0/lib/python3.9/site-packages/bitsandbytes/cuda_setup/main.py:145: UserWarning: WARNING: The following directories listed in your path were found to be non-existent: {PosixPath('cr.msk.sbercloud.ru/aicloud-jupyter-test/jupyter-cuda11.7-pt2'), PosixPath('cbfa7664-374246')}\n",
      "  warn(msg)\n",
      "/home/jovyan/.imgenv-unruffled-hypatia-0/lib/python3.9/site-packages/bitsandbytes/cuda_setup/main.py:145: UserWarning: WARNING: The following directories listed in your path were found to be non-existent: {PosixPath('//matplotlib_inline.backend_inline'), PosixPath('module')}\n",
      "  warn(msg)\n",
      "/home/jovyan/.imgenv-unruffled-hypatia-0/lib/python3.9/site-packages/bitsandbytes/cuda_setup/main.py:145: UserWarning: Found duplicate ['libcudart.so', 'libcudart.so.11.0', 'libcudart.so.12.0'] files: {PosixPath('/usr/local/cuda/lib64/libcudart.so'), PosixPath('/usr/local/cuda/lib64/libcudart.so.11.0')}.. We'll flip a coin and try one of these, in order to fail forward.\n",
      "Either way, this might cause trouble in the future:\n",
      "If you get `CUDA error: invalid device function` errors, the above might be the cause and the solution is to make sure only one ['libcudart.so', 'libcudart.so.11.0', 'libcudart.so.12.0'] in the paths that we search based on your env.\n",
      "  warn(msg)\n"
     ]
    }
   ],
   "source": [
    "from modeling_royal_canine import ByT5Tokenizer\n",
    "tokenizer = ByT5Tokenizer()"
   ]
  },
  {
   "cell_type": "code",
   "execution_count": 25,
   "id": "0afd813a-02ed-4ced-b1ad-b38b167de5ea",
   "metadata": {},
   "outputs": [],
   "source": [
    "def tokenize(prompt, add_eos_token=True):\n",
    "    result = tokenizer(prompt)\n",
    "    if (\n",
    "        result[\"input_ids\"][-1] != tokenizer.eos_token_id\n",
    "        and add_eos_token\n",
    "    ):\n",
    "        result[\"input_ids\"].append(tokenizer.eos_token_id)\n",
    "        result[\"attention_mask\"].append(1)\n",
    "\n",
    "    return result"
   ]
  },
  {
   "cell_type": "code",
   "execution_count": 26,
   "id": "25c3e159-1375-4a57-8737-f09a6445c0fc",
   "metadata": {},
   "outputs": [],
   "source": [
    "from itertools import chain"
   ]
  },
  {
   "cell_type": "code",
   "execution_count": 27,
   "id": "8b5d2434-2bdd-4021-a2d2-fe2711838d98",
   "metadata": {},
   "outputs": [],
   "source": [
    "def chunk_examples(examples, max_length):\n",
    "    input_ids_chunks = []\n",
    "    attention_mask_chunks = []\n",
    "    # token_type_ids_chunks = []\n",
    "    \n",
    "    input_ids = list(chain(*examples[\"input_ids\"]))\n",
    "    attention_mask = list(chain(*examples[\"attention_mask\"]))\n",
    "    # token_type_ids = list(chain(*examples[\"token_type_ids\"]))\n",
    "    \n",
    "    input_ids_chunks.extend(\n",
    "        [\n",
    "            input_ids[i : i + max_length]\n",
    "            for i in range(0, len(input_ids), max_length)\n",
    "        ]\n",
    "    )\n",
    "    attention_mask_chunks.extend(\n",
    "        [\n",
    "            attention_mask[i : i + max_length]\n",
    "            for i in range(0, len(attention_mask), max_length)\n",
    "        ]\n",
    "    )\n",
    "    # token_type_ids_chunks.extend(\n",
    "    #     [\n",
    "    #         token_type_ids[i : i + max_length]\n",
    "    #         for i in range(0, len(token_type_ids), max_length)\n",
    "    #     ]\n",
    "    # )\n",
    "    \n",
    "    return {\n",
    "        \"input_ids\": input_ids_chunks,\n",
    "        \"attention_mask\": attention_mask_chunks,\n",
    "        # \"token_type_ids\": token_type_ids_chunks,\n",
    "    }"
   ]
  },
  {
   "cell_type": "code",
   "execution_count": 28,
   "id": "21f82880-35ad-4db5-bcd7-2d7547912c93",
   "metadata": {},
   "outputs": [
    {
     "data": {
      "text/plain": [
       "DatasetDict({\n",
       "    train: Dataset({\n",
       "        features: ['text', 'meta'],\n",
       "        num_rows: 1518605\n",
       "    })\n",
       "    test: Dataset({\n",
       "        features: ['text', 'meta'],\n",
       "        num_rows: 79927\n",
       "    })\n",
       "})"
      ]
     },
     "execution_count": 28,
     "metadata": {},
     "output_type": "execute_result"
    }
   ],
   "source": [
    "selected_dataset"
   ]
  },
  {
   "cell_type": "code",
   "execution_count": 30,
   "id": "60cd0617-a5ff-479f-a54d-27440855512d",
   "metadata": {},
   "outputs": [],
   "source": [
    "def prepare_dataset(dataset, num_proc=8, max_seq_len=2048, tokenizer_bs=100):\n",
    "    tokenized_dataset = dataset.map(lambda x: tokenize(x['text']),\n",
    "                                    num_proc=num_proc, remove_columns=[\"meta\"])\n",
    "    \n",
    "    chunk_dataset = tokenized_dataset.map(lambda x: chunk_examples(x, max_seq_len), \n",
    "                                          batched=True, \n",
    "                                          batch_size=tokenizer_bs,\n",
    "                                          num_proc=num_proc,\n",
    "                                          remove_columns=[\"text\"])\n",
    "    return tokenized_dataset, chunk_dataset"
   ]
  },
  {
   "cell_type": "code",
   "execution_count": 31,
   "id": "cc7e4873-7bb4-4160-b600-e70ab0e15687",
   "metadata": {},
   "outputs": [
    {
     "data": {
      "application/vnd.jupyter.widget-view+json": {
       "model_id": "",
       "version_major": 2,
       "version_minor": 0
      },
      "text/plain": [
       "Map (num_proc=8):   0%|          | 0/1518605 [00:00<?, ? examples/s]"
      ]
     },
     "metadata": {},
     "output_type": "display_data"
    },
    {
     "data": {
      "application/vnd.jupyter.widget-view+json": {
       "model_id": "",
       "version_major": 2,
       "version_minor": 0
      },
      "text/plain": [
       "Map (num_proc=8):   0%|          | 0/79927 [00:00<?, ? examples/s]"
      ]
     },
     "metadata": {},
     "output_type": "display_data"
    },
    {
     "data": {
      "application/vnd.jupyter.widget-view+json": {
       "model_id": "",
       "version_major": 2,
       "version_minor": 0
      },
      "text/plain": [
       "Map (num_proc=8):   0%|          | 0/1518605 [00:00<?, ? examples/s]"
      ]
     },
     "metadata": {},
     "output_type": "display_data"
    },
    {
     "data": {
      "application/vnd.jupyter.widget-view+json": {
       "model_id": "",
       "version_major": 2,
       "version_minor": 0
      },
      "text/plain": [
       "Map (num_proc=8):   0%|          | 0/79927 [00:00<?, ? examples/s]"
      ]
     },
     "metadata": {},
     "output_type": "display_data"
    }
   ],
   "source": [
    "tokenized_dataset = prepare_dataset(selected_dataset)"
   ]
  },
  {
   "cell_type": "code",
   "execution_count": 32,
   "id": "49c8bed4-9271-435a-9e2e-c040aaa55af5",
   "metadata": {},
   "outputs": [
    {
     "data": {
      "text/plain": [
       "(DatasetDict({\n",
       "     train: Dataset({\n",
       "         features: ['text', 'input_ids', 'attention_mask'],\n",
       "         num_rows: 1518605\n",
       "     })\n",
       "     test: Dataset({\n",
       "         features: ['text', 'input_ids', 'attention_mask'],\n",
       "         num_rows: 79927\n",
       "     })\n",
       " }),\n",
       " DatasetDict({\n",
       "     train: Dataset({\n",
       "         features: ['input_ids', 'attention_mask'],\n",
       "         num_rows: 3396751\n",
       "     })\n",
       "     test: Dataset({\n",
       "         features: ['input_ids', 'attention_mask'],\n",
       "         num_rows: 177255\n",
       "     })\n",
       " }))"
      ]
     },
     "execution_count": 32,
     "metadata": {},
     "output_type": "execute_result"
    }
   ],
   "source": [
    "tokenized_dataset"
   ]
  },
  {
   "cell_type": "code",
   "execution_count": 33,
   "id": "c81049a7-38c2-4d4d-bc07-1908082402ce",
   "metadata": {},
   "outputs": [
    {
     "data": {
      "application/vnd.jupyter.widget-view+json": {
       "model_id": "",
       "version_major": 2,
       "version_minor": 0
      },
      "text/plain": [
       "Saving the dataset (0/70 shards):   0%|          | 0/3396751 [00:00<?, ? examples/s]"
      ]
     },
     "metadata": {},
     "output_type": "display_data"
    },
    {
     "data": {
      "application/vnd.jupyter.widget-view+json": {
       "model_id": "",
       "version_major": 2,
       "version_minor": 0
      },
      "text/plain": [
       "Saving the dataset (0/4 shards):   0%|          | 0/177255 [00:00<?, ? examples/s]"
      ]
     },
     "metadata": {},
     "output_type": "display_data"
    }
   ],
   "source": [
    "tokenized_dataset[1].save_to_disk(\"filtered_tokenized_dataset\")"
   ]
  },
  {
   "cell_type": "code",
   "execution_count": 34,
   "id": "15fd48d7-5df5-4ec2-9942-36f8b9d8f52d",
   "metadata": {},
   "outputs": [
    {
     "name": "stdout",
     "output_type": "stream",
     "text": [
      "59G\tfiltered_tokenized_dataset\n"
     ]
    }
   ],
   "source": [
    "!du -hs filtered_tokenized_dataset"
   ]
  },
  {
   "cell_type": "code",
   "execution_count": 35,
   "id": "1418f7b2-dc73-4c75-86dc-56b8d40929ae",
   "metadata": {},
   "outputs": [
    {
     "name": "stdout",
     "output_type": "stream",
     "text": [
      "lol\n"
     ]
    }
   ],
   "source": [
    "print(\"lol\")"
   ]
  },
  {
   "cell_type": "code",
   "execution_count": 36,
   "id": "d39d07e5-9bdb-4ecc-ae47-1ed5716680a8",
   "metadata": {},
   "outputs": [
    {
     "name": "stdout",
     "output_type": "stream",
     "text": [
      "13b_dataV2\t\t    mlruns\n",
      "__pycache__\t\t    modeling_royal_canine.py\n",
      "filtered_dataset\t    modeling_royal_canine_backup.py\n",
      "filtered_tokenized_dataset  prepare_data.ipynb\n",
      "final_test.ipynb\t    pytorch_model.bin\n",
      "llama_canine-Copy1.ipynb    pytorch_model.bin.1\n",
      "llama_canine.ipynb\t    train.py\n",
      "logs\n"
     ]
    }
   ],
   "source": [
    "!ls"
   ]
  },
  {
   "cell_type": "code",
   "execution_count": null,
   "id": "b6e70cc5-b0ea-4036-b83d-dfb0a31cfc3a",
   "metadata": {},
   "outputs": [],
   "source": []
  }
 ],
 "metadata": {
  "kernelspec": {
   "display_name": "Python 3 (ipykernel)",
   "language": "python",
   "name": "python3"
  },
  "language_info": {
   "codemirror_mode": {
    "name": "ipython",
    "version": 3
   },
   "file_extension": ".py",
   "mimetype": "text/x-python",
   "name": "python",
   "nbconvert_exporter": "python",
   "pygments_lexer": "ipython3",
   "version": "3.9.16"
  }
 },
 "nbformat": 4,
 "nbformat_minor": 5
}
